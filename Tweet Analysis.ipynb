{
 "cells": [
  {
   "cell_type": "markdown",
   "metadata": {},
   "source": [
    "## Use nltk to build sentiment analysis model"
   ]
  },
  {
   "cell_type": "code",
   "execution_count": 2,
   "metadata": {},
   "outputs": [
    {
     "name": "stdout",
     "output_type": "stream",
     "text": [
      "{'That': True, 'is': True, 'a': True, 'nice': True, 'wombat': True}\n"
     ]
    }
   ],
   "source": [
    "import nltk\n",
    "\n",
    "# requires the nltk_data set (3.5G in total) for initial training\n",
    "    # run'sudo python3 -m nltk.downloader all'\n",
    "def format_sentence(sent):\n",
    "    return({word: True for word in nltk.word_tokenize(sent)})\n",
    "\n",
    "print(format_sentence('That is a nice wombat'))"
   ]
  },
  {
   "cell_type": "markdown",
   "metadata": {},
   "source": [
    "- Above changes a sentence into a dictionary mapped to true bools. \n",
    "- This will allow the training of a prediction model by splitting text into its tokens"
   ]
  },
  {
   "cell_type": "code",
   "execution_count": 3,
   "metadata": {
    "collapsed": true
   },
   "outputs": [],
   "source": [
    "positive = []\n",
    "# a list that will contain dictionaries of the tweets, mapped to true as above\n",
    "with open('./positive_tweets.txt') as f:\n",
    "    for i in f:\n",
    "        positive.append([format_sentence(i), 'positif'])\n",
    "\n",
    "negative = []\n",
    "with open('./negative_tweets.txt') as f:\n",
    "    for i in f:\n",
    "        negative.append([format_sentence(i), 'négatif'])\n",
    "\n",
    "# split labeled data into training and test data\n",
    "training = positive[:int((.8)*len(positive))] + negative[:int((.8)*len(negative))]\n",
    "test = positive[int((.8)*len(positive)):] + negative[int((.8)*len(negative)):]"
   ]
  },
  {
   "cell_type": "markdown",
   "metadata": {},
   "source": [
    "### Builiding a Classifier\n",
    "- All nltk classifiers work with feature structures\n",
    "    - Which can be simple dictionaries mapping a feature name to a feature value.\n",
    "- The Naive Bayes Classifier makes predictions based on the word frequencies associated with the label\n",
    "    -  http://www.nltk.org/_modules/nltk/classify/naivebayes.html"
   ]
  },
  {
   "cell_type": "code",
   "execution_count": 4,
   "metadata": {
    "collapsed": true
   },
   "outputs": [],
   "source": [
    "from nltk.classify import NaiveBayesClassifier\n",
    "classifier = NaiveBayesClassifier.train(training)"
   ]
  },
  {
   "cell_type": "markdown",
   "metadata": {},
   "source": [
    "- With this method, see which words are the highest indicators of a positive or negative label\n",
    "- NBC is based off the frequenceis associated with each label for a word"
   ]
  },
  {
   "cell_type": "code",
   "execution_count": 5,
   "metadata": {},
   "outputs": [
    {
     "name": "stdout",
     "output_type": "stream",
     "text": [
      "Most Informative Features\n",
      "                      no = True           négati : positi =     19.4 : 1.0\n",
      "                    love = True           positi : négati =     19.0 : 1.0\n",
      "                 awesome = True           positi : négati =     17.2 : 1.0\n",
      "                headache = True           négati : positi =     16.2 : 1.0\n",
      "                      Hi = True           positi : négati =     12.7 : 1.0\n",
      "               beautiful = True           positi : négati =      9.7 : 1.0\n",
      "                     New = True           positi : négati =      9.7 : 1.0\n",
      "                     fan = True           positi : négati =      9.7 : 1.0\n",
      "                   Thank = True           positi : négati =      9.7 : 1.0\n",
      "                    haha = True           positi : négati =      9.3 : 1.0\n"
     ]
    }
   ],
   "source": [
    "classifier.show_most_informative_features()"
   ]
  },
  {
   "cell_type": "markdown",
   "metadata": {},
   "source": [
    "- The first column is why we needed format_sentence\n",
    "    - Number of occurences of each word for both labels to compute the ratio between the two\n",
    "- Second column lists on the left which occurs more frequently\n",
    "- Third column is the ratio"
   ]
  },
  {
   "cell_type": "code",
   "execution_count": 6,
   "metadata": {},
   "outputs": [
    {
     "name": "stdout",
     "output_type": "stream",
     "text": [
      "positif\n"
     ]
    }
   ],
   "source": [
    "test1 = \"The wombat is nature's most perfect animal\"\n",
    "print(classifier.classify(format_sentence(test1)))"
   ]
  },
  {
   "cell_type": "code",
   "execution_count": 7,
   "metadata": {},
   "outputs": [
    {
     "name": "stdout",
     "output_type": "stream",
     "text": [
      "négatif\n"
     ]
    }
   ],
   "source": [
    "test2 = \"I hate Mondays, like that orange cat\"\n",
    "print(classifier.classify(format_sentence(test2)))"
   ]
  },
  {
   "cell_type": "code",
   "execution_count": 8,
   "metadata": {},
   "outputs": [
    {
     "name": "stdout",
     "output_type": "stream",
     "text": [
      "négatif\n"
     ]
    }
   ],
   "source": [
    "test3 = 'I do not have a headache'\n",
    "print(classifier.classify(format_sentence(test3)))"
   ]
  },
  {
   "cell_type": "markdown",
   "metadata": {},
   "source": [
    "- Naive Bayes does not consider the relationship between words, so it did not properly classify the above sentence"
   ]
  },
  {
   "cell_type": "code",
   "execution_count": 9,
   "metadata": {},
   "outputs": [
    {
     "name": "stdout",
     "output_type": "stream",
     "text": [
      "négatif\n"
     ]
    }
   ],
   "source": [
    "test4 = 'headache love love love love'\n",
    "print(classifier.classify(format_sentence(test4)))\n",
    "# hmm still negative"
   ]
  },
  {
   "cell_type": "code",
   "execution_count": 10,
   "metadata": {},
   "outputs": [
    {
     "name": "stdout",
     "output_type": "stream",
     "text": [
      "0.8308457711442786\n"
     ]
    }
   ],
   "source": [
    "# Compute accuracy\n",
    "from nltk.classify.util import accuracy\n",
    "print(accuracy(classifier, test))"
   ]
  },
  {
   "cell_type": "markdown",
   "metadata": {},
   "source": [
    "- ~83% Accuracy\n",
    "- Why?\n",
    "    - Tweets contain typos, abbreviations, grammatical errors, and such"
   ]
  }
 ],
 "metadata": {
  "kernelspec": {
   "display_name": "Python 3",
   "language": "python",
   "name": "python3"
  },
  "language_info": {
   "codemirror_mode": {
    "name": "ipython",
    "version": 3
   },
   "file_extension": ".py",
   "mimetype": "text/x-python",
   "name": "python",
   "nbconvert_exporter": "python",
   "pygments_lexer": "ipython3",
   "version": "3.6.1"
  }
 },
 "nbformat": 4,
 "nbformat_minor": 2
}
